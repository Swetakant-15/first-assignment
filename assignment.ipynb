{
  "nbformat": 4,
  "nbformat_minor": 0,
  "metadata": {
    "colab": {
      "provenance": [],
      "authorship_tag": "ABX9TyMDcL+3i6RSDR63YmqExUD0",
      "include_colab_link": true
    },
    "kernelspec": {
      "name": "python3",
      "display_name": "Python 3"
    },
    "language_info": {
      "name": "python"
    }
  },
  "cells": [
    {
      "cell_type": "markdown",
      "metadata": {
        "id": "view-in-github",
        "colab_type": "text"
      },
      "source": [
        "<a href=\"https://colab.research.google.com/github/Swetakant-15/first-assignment/blob/main/assignment.ipynb\" target=\"_parent\"><img src=\"https://colab.research.google.com/assets/colab-badge.svg\" alt=\"Open In Colab\"/></a>"
      ]
    },
    {
      "cell_type": "code",
      "execution_count": null,
      "metadata": {
        "id": "GMWXCFVQ50KM"
      },
      "outputs": [],
      "source": [
        "# what is python in programming language"
      ]
    },
    {
      "cell_type": "code",
      "source": [
        "# Python is a high-level, general-purpose programming language known for its readability and simplicity."
      ],
      "metadata": {
        "id": "aK3jwE5b52YV"
      },
      "execution_count": null,
      "outputs": []
    }
  ]
}